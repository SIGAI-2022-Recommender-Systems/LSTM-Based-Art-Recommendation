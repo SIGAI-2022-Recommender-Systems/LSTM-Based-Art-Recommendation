{
 "cells": [
  {
   "cell_type": "code",
   "execution_count": 4,
   "metadata": {},
   "outputs": [],
   "source": [
    "import torch\n",
    "from data_loader import *\n",
    "from model import *\n",
    "from trainer import *\n",
    "from tqdm import tqdm"
   ]
  },
  {
   "cell_type": "code",
   "execution_count": 5,
   "metadata": {},
   "outputs": [
    {
     "name": "stderr",
     "output_type": "stream",
     "text": [
      "561719it [00:08, 139480.42it/s]"
     ]
    }
   ],
   "source": [
    "dataset = recSysDataset(max_len=20, root = \"data\\\\kcore_5_collated.txt\")\n",
    "train_data = train_val_test_split(dataset, split=(.5,.45,.05), mode = \"train\")\n",
    "val_data = train_val_test_split(dataset, split=(.5,.45,.05), mode = \"val\")\n",
    "test_data = train_val_test_split(dataset, split=(.5,.45,.05), mode = \"test\")\n",
    "dataloader = torch.utils.data.DataLoader(train_data, batch_size = 16, shuffle = True)\n",
    "tqdm.write(\"Dataloader done\")\n",
    "model = recSysNet(\"cpu\",1569975,20,20,1,.1,bidirectional=False)\n",
    "tqdm.write(\"Model instantiated\")\n",
    "trainer = Trainer(model, BPRLoss, [], Adam(model.parameters(),lr=.001), dataloader)\n",
    "tqdm.write(\"Training...\")\n",
    "trainer.train()"
   ]
  },
  {
   "cell_type": "code",
   "execution_count": 54,
   "metadata": {},
   "outputs": [
    {
     "data": {
      "text/plain": [
       "tensor([-0.6931])"
      ]
     },
     "execution_count": 54,
     "metadata": {},
     "output_type": "execute_result"
    }
   ],
   "source": [
    "torch.tensor([0]).sigmoid().log()"
   ]
  },
  {
   "cell_type": "code",
   "execution_count": 3,
   "metadata": {},
   "outputs": [
    {
     "data": {
      "text/plain": [
       "tensor([[False,  True,  True,  True,  True,  True,  True,  True,  True,  True],\n",
       "        [ True,  True,  True,  True,  True,  True,  True,  True,  True,  True],\n",
       "        [ True,  True,  True,  True,  True,  True,  True,  True,  True,  True],\n",
       "        [ True,  True,  True,  True,  True,  True,  True,  True,  True,  True],\n",
       "        [ True,  True,  True,  True,  True,  True,  True,  True,  True,  True],\n",
       "        [ True,  True,  True,  True,  True,  True,  True,  True,  True,  True],\n",
       "        [ True,  True,  True,  True,  True,  True,  True,  True,  True,  True],\n",
       "        [ True,  True,  True,  True,  True,  True,  True,  True,  True,  True],\n",
       "        [ True,  True,  True,  True,  True,  True,  True,  True,  True,  True],\n",
       "        [ True,  True,  True,  True,  True,  True,  True,  True,  True,  True]])"
      ]
     },
     "execution_count": 3,
     "metadata": {},
     "output_type": "execute_result"
    }
   ],
   "source": [
    "a = torch.arange(100).reshape(10,10)\n",
    "a!=0"
   ]
  },
  {
   "cell_type": "code",
   "execution_count": 86,
   "metadata": {},
   "outputs": [
    {
     "data": {
      "text/plain": [
       "torch.Size([4, 4, 1])"
      ]
     },
     "execution_count": 86,
     "metadata": {},
     "output_type": "execute_result"
    }
   ],
   "source": [
    "c = torch.randint(0,3,(4,4))\n",
    "c.unsqueeze(2).size()"
   ]
  },
  {
   "cell_type": "code",
   "execution_count": 72,
   "metadata": {},
   "outputs": [
    {
     "data": {
      "text/plain": [
       "torch.Size([10, 4, 1])"
      ]
     },
     "execution_count": 72,
     "metadata": {},
     "output_type": "execute_result"
    }
   ],
   "source": [
    "g = torch.arange(0,40).reshape((10,4))\n",
    "g.unsqueeze(2).size()"
   ]
  },
  {
   "cell_type": "code",
   "execution_count": 87,
   "metadata": {},
   "outputs": [
    {
     "data": {
      "text/plain": [
       "torch.Size([4, 4, 1])"
      ]
     },
     "execution_count": 87,
     "metadata": {},
     "output_type": "execute_result"
    }
   ],
   "source": [
    "torch.gather(b,2,c.unsqueeze(2)).size()"
   ]
  },
  {
   "cell_type": "code",
   "execution_count": 78,
   "metadata": {},
   "outputs": [
    {
     "name": "stdout",
     "output_type": "stream",
     "text": [
      "The autoreload extension is already loaded. To reload it, use:\n",
      "  %reload_ext autoreload\n"
     ]
    }
   ],
   "source": [
    "%load_ext autoreload\n",
    "%autoreload 2"
   ]
  },
  {
   "cell_type": "code",
   "execution_count": 101,
   "metadata": {},
   "outputs": [
    {
     "name": "stdout",
     "output_type": "stream",
     "text": [
      "torch.Size([8, 6, 1])\n"
     ]
    },
    {
     "data": {
      "text/plain": [
       "tensor(33.2711)"
      ]
     },
     "execution_count": 101,
     "metadata": {},
     "output_type": "execute_result"
    }
   ],
   "source": [
    "from trainer import BPRLoss\n",
    "\n",
    "a = torch.rand((8,8,10))\n",
    "b = torch.randint(9,(8,8))\n",
    "c = b\n",
    "BPRLoss(a,b,c)\n",
    "# torch.gather(a[:,1:-1,:],2,b[:,1:-1].unsqueeze(2)).size()"
   ]
  },
  {
   "cell_type": "code",
   "execution_count": 104,
   "metadata": {},
   "outputs": [
    {
     "name": "stderr",
     "output_type": "stream",
     "text": [
      "100%|██████████| 1000/1000 [00:00<00:00, 999595.81it/s]\n"
     ]
    }
   ],
   "source": [
    "from tqdm import tqdm\n",
    "\n",
    "for i in tqdm(range(1000)):\n",
    "    ..."
   ]
  },
  {
   "cell_type": "code",
   "execution_count": 21,
   "metadata": {},
   "outputs": [
    {
     "data": {
      "image/png": "[encoded data removed]",
      "text/plain": [
       "<Figure size 432x288 with 1 Axes>"
      ]
     },
     "metadata": {
      "needs_background": "light"
     },
     "output_type": "display_data"
    }
   ],
   "source": [
    "import matplotlib.pyplot as plt\n",
    "with open(\"./data/kcore_5_collated.txt\", 'r') as f:\n",
    "    idx_to_item = f.readline().strip().split(\",\")\n",
    "    item_to_idx = {v:i for i, v in enumerate(idx_to_item)}\n",
    "    counter = []\n",
    "    # self.allitems = set() testing purposes\n",
    "    for l in f:\n",
    "        splitt = l.split(\",\")\n",
    "        counter.append(len(splitt))\n",
    " \n",
    "    plt.boxplot(counter,showfliers=False)        \n",
    "    plt.show()\n",
    "        "
   ]
  }
 ],
 "metadata": {
  "kernelspec": {
   "display_name": "Python 3.9.7 64-bit",
   "language": "python",
   "name": "python3"
  },
  "language_info": {
   "codemirror_mode": {
    "name": "ipython",
    "version": 3
   },
   "file_extension": ".py",
   "mimetype": "text/x-python",
   "name": "python",
   "nbconvert_exporter": "python",
   "pygments_lexer": "ipython3",
   "version": "3.9.7"
  },
  "orig_nbformat": 4,
  "vscode": {
   "interpreter": {
    "hash": "64ed03ad68a67a8d799097052e3a7e58487babcb4923b6d41fd6a6669a1d01fc"
   }
  }
 },
 "nbformat": 4,
 "nbformat_minor": 2
}
